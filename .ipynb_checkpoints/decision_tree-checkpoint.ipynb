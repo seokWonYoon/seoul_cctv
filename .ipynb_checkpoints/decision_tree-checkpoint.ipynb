{
 "cells": [
  {
   "cell_type": "code",
   "execution_count": 1,
   "metadata": {},
   "outputs": [],
   "source": [
    "import sklearn\n",
    "from sklearn.tree import DecisionTreeClassifier\n",
    "import sklearn.datasets\n",
    "from sklearn.datasets import  load_breast_cancer\n",
    "from sklearn.model_selection import  train_test_split"
   ]
  },
  {
   "cell_type": "code",
   "execution_count": 2,
   "metadata": {},
   "outputs": [],
   "source": [
    "cancer =load_breast_cancer()"
   ]
  },
  {
   "cell_type": "code",
   "execution_count": 5,
   "metadata": {},
   "outputs": [],
   "source": [
    "X_train, X_test, y_train, y_test = train_test_split(cancer.data, cancer.target, stratify = cancer.target, random_state = 42)"
   ]
  },
  {
   "cell_type": "code",
   "execution_count": 9,
   "metadata": {},
   "outputs": [],
   "source": [
    "#train_test_split(data, data2, test_size, train_size, random_state)"
   ]
  },
  {
   "cell_type": "markdown",
   "metadata": {},
   "source": [
    "###### data : 독립 변수 데이터 배열 또는 pandas 데이터 프레임\n",
    "###### data2 :  종속변수 데이터, data 인수에 종속변수 데이터가 같이있으면 생략할 수 있다.\n",
    "###### test_size :  검증용데이터 갯수, 1보다 작은 실수이면 비율을 나타낸다\n",
    "###### train_size : 학습용 데이터 갯수. 1보다 작은 실수이면 비율을 나타낸다. test_size와 train_size는 하나만 있어도 된다.\n",
    "###### random_state : 난수 시드(계속 동일한 난수가 생성되도록 함)"
   ]
  },
  {
   "cell_type": "code",
   "execution_count": 8,
   "metadata": {},
   "outputs": [
    {
     "name": "stdout",
     "output_type": "stream",
     "text": [
      "훈련 세트 정확도 : 1.000000\n",
      "테스트 세트 정확도 : 0.923077\n"
     ]
    }
   ],
   "source": [
    "tree = DecisionTreeClassifier(random_state=42)\n",
    "tree.fit(X_train, y_train)\n",
    "print(\"훈련 세트 정확도 : {:3f}\".format(tree.score(X_train, y_train)))\n",
    "print(\"테스트 세트 정확도 : {:3f}\".format(tree.score(X_test, y_test)))"
   ]
  },
  {
   "cell_type": "markdown",
   "metadata": {},
   "source": [
    "##### 표본내 성능검증 (in-sample testing) : 회귀분석 성능은 학습데이터 집합의 종속변수(y)값의 예측 정확도를 결정계수(coefficient of determination)등을 이용하여 따지는 검증\n",
    "##### 표본의 성능검증(out-of-sample testing) 혹은 교차검증(cross validation) : \n",
    "##### 회귀분석 모형을 만드는 목적 중 하나ㅏ는 종속변수의 값을 아직 알지못하고 따라서 학습에 사용하지 않은 표본에 대한 종속변수의 값을 알아내고자 하는 것 즉 예측(prediction)이다.\n",
    "##### 이렇게 학습에 쓰이지 않는 표본 데이터 집합의 종소변수 값을 얼마나 잘 예측하는가를 검사하는 것"
   ]
  }
 ],
 "metadata": {
  "kernelspec": {
   "display_name": "Python 3",
   "language": "python",
   "name": "python3"
  },
  "language_info": {
   "codemirror_mode": {
    "name": "ipython",
    "version": 3
   },
   "file_extension": ".py",
   "mimetype": "text/x-python",
   "name": "python",
   "nbconvert_exporter": "python",
   "pygments_lexer": "ipython3",
   "version": "3.6.7"
  }
 },
 "nbformat": 4,
 "nbformat_minor": 2
}
